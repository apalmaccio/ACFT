{
 "cells": [
  {
   "cell_type": "code",
   "source": [
    "import numpy as np\n",
    "import matplotlib.pyplot as plt\n",
    "%matplotlib inline\n",
    "# Load HMF\n",
    "bins, hmf = np.loadtxt('../data/synthetic_sdss_hmf.csv', delimiter=',', unpack=True)\n",
    "plt.figure(figsize=(8, 6))\n",
    "plt.plot(bins, hmf, label='ACFT HMF')\n",
    "plt.xscale('log')\n",
    "plt.yscale('log')\n",
    "plt.xlabel('Halo Mass (M_sun/h)')\n",
    "plt.ylabel('dn/dM (h/Mpc)^3')\n",
    "plt.legend()\n",
    "plt.savefig('../figures/hmf.png')\n",
    "plt.show()\n",
    "# Run hubble_posterior\n",
    "%run ../scripts/hubble_posterior.py"
   ],
   "outputs": []
  }
 ],
 "metadata": {
  "kernelspec": {
   "name": "python3",
   "language": "python",
   "display_name": "Python 3"
  }
 }
}
